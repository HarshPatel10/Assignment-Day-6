{
 "cells": [
  {
   "cell_type": "markdown",
   "metadata": {},
   "source": [
    "#  Question\n",
    "\n",
    "Do the project - Email sending using python."
   ]
  },
  {
   "cell_type": "code",
   "execution_count": 1,
   "metadata": {},
   "outputs": [
    {
     "name": "stdout",
     "output_type": "stream",
     "text": [
      "Collecting emails\n",
      "  Downloading emails-0.6-py2.py3-none-any.whl (56 kB)\n",
      "Requirement already satisfied: requests in c:\\users\\sony\\anaconda3\\lib\\site-packages (from emails) (2.24.0)\n",
      "Collecting cssutils\n",
      "  Downloading cssutils-1.0.2-py3-none-any.whl (406 kB)\n",
      "Collecting premailer\n",
      "  Downloading premailer-3.7.0-py2.py3-none-any.whl (18 kB)\n",
      "Requirement already satisfied: python-dateutil in c:\\users\\sony\\anaconda3\\lib\\site-packages (from emails) (2.8.1)\n",
      "Requirement already satisfied: chardet in c:\\users\\sony\\anaconda3\\lib\\site-packages (from emails) (3.0.4)\n",
      "Requirement already satisfied: lxml in c:\\users\\sony\\anaconda3\\lib\\site-packages (from emails) (4.6.1)\n",
      "Requirement already satisfied: idna<3,>=2.5 in c:\\users\\sony\\anaconda3\\lib\\site-packages (from requests->emails) (2.10)\n",
      "Requirement already satisfied: certifi>=2017.4.17 in c:\\users\\sony\\anaconda3\\lib\\site-packages (from requests->emails) (2020.6.20)\n",
      "Requirement already satisfied: urllib3!=1.25.0,!=1.25.1,<1.26,>=1.21.1 in c:\\users\\sony\\anaconda3\\lib\\site-packages (from requests->emails) (1.25.11)\n",
      "Collecting cachetools\n",
      "  Downloading cachetools-4.2.0-py3-none-any.whl (12 kB)\n",
      "Collecting cssselect\n",
      "  Downloading cssselect-1.1.0-py2.py3-none-any.whl (16 kB)\n",
      "Requirement already satisfied: six>=1.5 in c:\\users\\sony\\anaconda3\\lib\\site-packages (from python-dateutil->emails) (1.15.0)\n",
      "Installing collected packages: cssutils, cachetools, cssselect, premailer, emails\n",
      "Successfully installed cachetools-4.2.0 cssselect-1.1.0 cssutils-1.0.2 emails-0.6 premailer-3.7.0\n"
     ]
    }
   ],
   "source": [
    "!pip install emails"
   ]
  },
  {
   "cell_type": "code",
   "execution_count": 36,
   "metadata": {},
   "outputs": [],
   "source": [
    "import emails"
   ]
  },
  {
   "cell_type": "code",
   "execution_count": 41,
   "metadata": {},
   "outputs": [],
   "source": [
    "html_text = '''<p>Hello ! How are you ?</p>\n",
    "                <p><br></p>\n",
    "                <p>I hope you are fine.</p>\n",
    "                <p>I am Harsh Patel.</p>\n",
    "                <p><br></p>\n",
    "                <p>Regards,</p>\n",
    "                <p><span style=\"background-color: rgb(0, 168, 133);\">Cheif Legend</span>&nbsp;</p>'''\n",
    "message = emails.html(html=html_text,\n",
    "                          subject=\"Your Email from python script\",\n",
    "                          mail_from=('Altra Legend!', 'harsh@xyz.com'))"
   ]
  },
  {
   "cell_type": "code",
   "execution_count": 42,
   "metadata": {},
   "outputs": [],
   "source": [
    "mail_via_python = message.send(to='naminov138@hafutv.com', \n",
    "                               smtp={'host': 'smtp.gmail.com','timeout': 5,'user':'hp3308896@gmail.com','password':'Harsh@1234','tls':True}) "
   ]
  }
 ],
 "metadata": {
  "kernelspec": {
   "display_name": "Python 3",
   "language": "python",
   "name": "python3"
  },
  "language_info": {
   "codemirror_mode": {
    "name": "ipython",
    "version": 3
   },
   "file_extension": ".py",
   "mimetype": "text/x-python",
   "name": "python",
   "nbconvert_exporter": "python",
   "pygments_lexer": "ipython3",
   "version": "3.8.5"
  }
 },
 "nbformat": 4,
 "nbformat_minor": 4
}
